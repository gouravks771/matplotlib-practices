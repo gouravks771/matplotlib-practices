{
  "nbformat": 4,
  "nbformat_minor": 0,
  "metadata": {
    "colab": {
      "name": "MatplotLib InLine.ipynb",
      "provenance": []
    },
    "kernelspec": {
      "name": "python3",
      "display_name": "Python 3"
    },
    "language_info": {
      "name": "python"
    }
  },
  "cells": [
    {
      "cell_type": "markdown",
      "metadata": {
        "id": "UNRg_byo3yLR"
      },
      "source": [
        "### MatPlotLib Practice "
      ]
    },
    {
      "cell_type": "code",
      "metadata": {
        "id": "vZgPfwwH3VMI"
      },
      "source": [
        "#Data Visualization is graphical representation of information & Data\n",
        "#Import The necessary Library \n",
        "import matplotlib.pyplot as plt \n",
        "%matplotlib inline \n",
        "#no need to write plot.show() \n",
        "import numpy as np \n"
      ],
      "execution_count": 12,
      "outputs": []
    },
    {
      "cell_type": "code",
      "metadata": {
        "id": "jKYEHI4X5mBV"
      },
      "source": [
        "x=np.arange(10,20)\n",
        "y=np.arange(25,35)\n",
        "#Creating an array "
      ],
      "execution_count": 8,
      "outputs": []
    },
    {
      "cell_type": "code",
      "metadata": {
        "colab": {
          "base_uri": "https://localhost:8080/",
          "height": 311
        },
        "id": "v6a5fyPq6LOn",
        "outputId": "0bd2b677-541a-4d3a-f51a-127feaf56140"
      },
      "source": [
        "#plotting using MatPlotLib \n",
        "#Scatter Plot (2 Variables , Num-Num,Linear Relation Between 2 Numerical Variable)\n",
        "plt.scatter(x,y,c=\"b\")\n",
        "\n",
        "#Labeling the Plot\n",
        "plt.xlabel(\"X-AXIS\")\n",
        "plt.ylabel(\"Y-AXIS\")\n",
        "\n",
        "#Title for Plot\n",
        "plt.title(\"Graph In 2D\")"
      ],
      "execution_count": 13,
      "outputs": [
        {
          "output_type": "execute_result",
          "data": {
            "text/plain": [
              "Text(0.5, 1.0, 'Graph In 2D')"
            ]
          },
          "metadata": {
            "tags": []
          },
          "execution_count": 13
        },
        {
          "output_type": "display_data",
          "data": {
            "image/png": "[encoded data removed]",
            "text/plain": [
              "<Figure size 432x288 with 1 Axes>"
            ]
          },
          "metadata": {
            "tags": [],
            "needs_background": "light"
          }
        }
      ]
    },
    {
      "cell_type": "code",
      "metadata": {
        "id": "sHoEcrfR_O8f"
      },
      "source": [
        "z=x*x\n"
      ],
      "execution_count": 14,
      "outputs": []
    },
    {
      "cell_type": "code",
      "metadata": {
        "id": "EjGaCFWkAze1",
        "outputId": "ef0c8599-0292-41e8-a59f-844c4f062cb0",
        "colab": {
          "base_uri": "https://localhost:8080/",
          "height": 311
        }
      },
      "source": [
        "#plt Plot \n",
        "plt.plot(x,z,\"g*\",linestyle='dashed',linewidth=3,markersize=12)\n",
        "plt.xlabel(\"X-AXIS\")\n",
        "plt.ylabel(\"Z-AXIS\")\n",
        "plt.title(\"X-Z Diagram\")"
      ],
      "execution_count": 19,
      "outputs": [
        {
          "output_type": "execute_result",
          "data": {
            "text/plain": [
              "Text(0.5, 1.0, 'X-Z Diagram')"
            ]
          },
          "metadata": {
            "tags": []
          },
          "execution_count": 19
        },
        {
          "output_type": "display_data",
          "data": {
            "image/png": "[encoded data removed]",
            "text/plain": [
              "<Figure size 432x288 with 1 Axes>"
            ]
          },
          "metadata": {
            "tags": [],
            "needs_background": "light"
          }
        }
      ]
    },
    {
      "cell_type": "code",
      "metadata": {
        "id": "abceShH9CPtt"
      },
      "source": [
        ""
      ],
      "execution_count": null,
      "outputs": []
    }
  ]
}